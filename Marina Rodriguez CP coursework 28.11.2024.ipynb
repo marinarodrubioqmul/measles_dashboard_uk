{
 "cells": [
  {
   "cell_type": "markdown",
   "id": "3de9e433-85ad-42b0-a05e-939701a62d12",
   "metadata": {},
   "source": [
    "This dashboard provides an interactive platform for the user to explore public health data retrieved from the UK Health Security Agency (UKHSA) API, in particular, exploring measles cases in England in from October 2023 up until today (November 2024). The user has the ability to refresh the data as the UK Health Security Agency keeps adding new information about the cases each week. For this, we will be using the source: https://api.ukhsa-dashboard.data.gov.uk/themes/infectious_disease/sub_themes/vaccine_preventable/topics/Measles/geography_types/Nation/geographies/England/metrics/measles_cases_casesByOnsetWeek\"\n",
    "\n",
    "We start off by importing all the libraries and modules we will need to analyse and create the graphs that we want. \n",
    "As a brief summary; \n",
    "pandas provides the data structure, in our case, the DataFrame, that allows us to handle time-series data. \n",
    "numpy is used for numerical computations.\n",
    "matplotlib.pyplot will allow us to create static and interactive visualisations.\n",
    "matplotlib.dates will allow us to format our time-series data.\n",
    "requests will allow us to interact with the UKHSA API.\n",
    "time will allow us to carry out time relates tasks.\n",
    "json will be used to read and write a json file, which is where we will store the UKHSA measles data.\n"
   ]
  },
  {
   "cell_type": "code",
   "execution_count": 1,
   "id": "7d3ffa04-6072-4394-b239-b037e15772e5",
   "metadata": {},
   "outputs": [],
   "source": [
    "from IPython.display import clear_output \n",
    "import ipywidgets as wdg \n",
    "import pandas as pd\n",
    "import numpy as np\n",
    "import matplotlib.pyplot as plt\n",
    "import matplotlib.dates as mdates\n",
    "import requests \n",
    "import time\n",
    "import json\n",
    "\n",
    "requests.get(\"https://api.ukhsa-dashboard.data.gov.uk/themes/infectious_disease/sub_themes/vaccine_preventable/topics/Measles/geography_types/Nation/geographies/England/metrics/measles_cases_casesByOnsetWeek\").json();\n"
   ]
  },
  {
   "cell_type": "markdown",
   "id": "79066924-aa14-4219-baa9-79a3bd040129",
   "metadata": {},
   "source": [
    "We proceed to define the class that will pull out the data from the UKHSA API. The data will be divided up in pages, allowing for our dataset to be divided into smaller groups. Definition: Pagination is a technique used to split large datasets into smaller groups, or \"pages,\" to make it easier to retrieve, process, and display data. The below class would allow for the return of each 'next page' and to loop over pages and get it in one go."
   ]
  },
  {
   "cell_type": "code",
   "execution_count": 2,
   "id": "f73c350e-7a8e-4abf-af9d-3b8ecc772790",
   "metadata": {},
   "outputs": [],
   "source": [
    "class APIwrapper:\n",
    "    _access_point=\"https://api.ukhsa-dashboard.data.gov.uk\"\n",
    "    _last_access=0.0\n",
    "\n",
    "    \n",
    "    def __init__(self, theme, sub_theme, topic, geography_type, geography, metric): #no need to change this line\n",
    "        url_path=(f\"/themes/{theme}/sub_themes/{sub_theme}/topics/{topic}/geography_types/\" +\n",
    "                  f\"{geography_type}/geographies/{geography}/metrics/{metric}\")\n",
    "        self._start_url=APIwrapper._access_point+url_path\n",
    "        self._filters=None\n",
    "        self._page_size=-1\n",
    "        self.count=None\n",
    "        \n",
    "        \n",
    "    def get_page(self, filters={}, page_size=5):\n",
    "        if page_size>365:\n",
    "            raise ValueError(\"Max supported page size is 365\")\n",
    "        if filters!=self._filters or page_size!=self._page_size:\n",
    "            self._filters=filters\n",
    "            self._page_size=page_size\n",
    "            self._next_url=self._start_url\n",
    "        if self._next_url==None: \n",
    "            return []\n",
    "        curr_time=time.time()\n",
    "        deltat=curr_time-APIwrapper._last_access\n",
    "        if deltat<0.33:\n",
    "            time.sleep(0.33-deltat)\n",
    "        APIwrapper._last_access=curr_time\n",
    "        parameters={x: y for x, y in filters.items() if y!=None}\n",
    "        parameters['page_size']=page_size\n",
    "        response = requests.get(self._next_url, params=parameters).json()\n",
    "        self._next_url=response['next']\n",
    "        self.count=response['count']\n",
    "        return response['results'] \n",
    "\n",
    "\n",
    "    def get_all_pages(self, filters={}, page_size=365):\n",
    "        data=[] \n",
    "        while True:\n",
    "            next_page=self.get_page(filters, page_size)\n",
    "            if next_page==[]:\n",
    "                break \n",
    "            data.extend(next_page)\n",
    "        return data"
   ]
  },
  {
   "cell_type": "markdown",
   "id": "8cdd6ce8-d03a-47ed-b2ae-f443bd8501c7",
   "metadata": {},
   "source": [
    "Next, we define a structure dictionary that contains the parameters of our queries, as well as a filters dictionary to filter our results. This will be particularly important for our dataset as it is divided by age ranges, so by filtering it to 'all' we will get England's Measles cases for all ages. We then proceed to download all data for our weekly measles cases and we call .get_all_pages() to get all the pages at once;"
   ]
  },
  {
   "cell_type": "code",
   "execution_count": 3,
   "id": "96db3e28-bb02-48e7-b6a4-ef5b670bf38c",
   "metadata": {},
   "outputs": [],
   "source": [
    "structure={\"theme\": \"infectious_disease\", \n",
    "           \"sub_theme\": \"vaccine_preventable\",\n",
    "           \"topic\": \"Measles\",\n",
    "           \"geography_type\": \"Nation\", \n",
    "           \"geography\": \"England\",\n",
    "          \"metric\":\"measles_cases_casesByOnsetWeek\"}\n",
    "\n",
    "filters={\"stratum\" : None, \n",
    "         \"age\": 'all', \n",
    "         \"sex\": 'all', \n",
    "         \"year\": None, \n",
    "         \"month\": None,\n",
    "         \"epiweek\" :None, \n",
    "         \"date\" : None, \n",
    "         \"in_reporting_delay_period\": None \n",
    "        }\n",
    "structure[\"metric\"]=\"measles_cases_casesByOnsetWeek\"\n",
    "api=APIwrapper(**structure)\n",
    "measles_cases=api.get_all_pages(filters)"
   ]
  },
  {
   "cell_type": "markdown",
   "id": "06d0ac3f-521d-477a-9464-be5d266270eb",
   "metadata": {},
   "source": [
    "We then proceed to create a json file and save our data in it;"
   ]
  },
  {
   "cell_type": "code",
   "execution_count": 4,
   "id": "1aba2dc8-ad51-4363-9a84-20f3ae5134d9",
   "metadata": {},
   "outputs": [],
   "source": [
    "with open(\"measles_cases.json\", \"wt\") as OUTF: \n",
    "    json.dump(measles_cases, OUTF)\n",
    "\n",
    "%matplotlib inline\n",
    "plt.rcParams['figure.dpi'] = 100\n",
    "\n",
    "with open(\"measles_cases.json\", \"rt\") as INFILE:\n",
    "    measles_cases=json.load(INFILE)\n",
    "  "
   ]
  },
  {
   "cell_type": "markdown",
   "id": "30f17400-f493-4c2d-83fa-7c920d777756",
   "metadata": {},
   "source": [
    "Once the data is saved, we proceed to retrieve the values and put them in a dictionary, with the dates acting as keys. We also sort the dates."
   ]
  },
  {
   "cell_type": "code",
   "execution_count": 5,
   "id": "78fb096b-a3e2-4b84-b4f7-e52a1753b0a0",
   "metadata": {},
   "outputs": [],
   "source": [
    "data={}\n",
    "for dataset in [measles_cases]:\n",
    "    for entry in dataset:\n",
    "        date=entry['date']\n",
    "        metric=entry['metric']\n",
    "        value=entry['metric_value']\n",
    "        if date not in data:\n",
    "            data[date]={}\n",
    "        data[date][metric]=value\n",
    "\n",
    "\n",
    "dates=list(data.keys())\n",
    "dates.sort()"
   ]
  },
  {
   "cell_type": "markdown",
   "id": "0680a771-a955-4265-b4b2-efca992af6b9",
   "metadata": {},
   "source": [
    "We then convert the date string into a pandas datetime object. And now for the important bit, creating our DataFrame. Our index will be the data range below defined, and our column will be measles cases."
   ]
  },
  {
   "cell_type": "code",
   "execution_count": 6,
   "id": "f600119c-4b50-4a1c-b4bb-0592dbf0c84c",
   "metadata": {},
   "outputs": [],
   "source": [
    "def parse_date(datestring):\n",
    "    return pd.to_datetime(datestring, format=\"%Y-%m-%d\")\n",
    "\n",
    "startdate=parse_date(dates[0])\n",
    "enddate=parse_date(dates[-1])\n",
    "\n",
    "index=pd.date_range(startdate, enddate, freq='D')\n",
    "timeseriesdf=pd.DataFrame(index=index, columns=['measles_cases'])"
   ]
  },
  {
   "cell_type": "markdown",
   "id": "94adcef7-fb69-478c-9269-759705507ee7",
   "metadata": {},
   "source": [
    "We then proceed to fill out our Dataframe with values from our statistics, measles cases."
   ]
  },
  {
   "cell_type": "code",
   "execution_count": 7,
   "id": "c1d75771-cb6b-4dda-bcb8-bdbcade6615a",
   "metadata": {},
   "outputs": [],
   "source": [
    "index=pd.date_range(startdate, enddate, freq='D')\n",
    "timeseriesdf=pd.DataFrame(index=index, columns=['measles_cases'])\n",
    "\n",
    "\n",
    "metrics ={'measles_cases': 'measles_cases_casesByOnsetWeek'}\n",
    "\n",
    "for date, entry in data.items(): \n",
    "    pd_date=parse_date(date)\n",
    "    for column in ['measles_cases']: \n",
    "        metric_name=metrics[column]\n",
    "        value= entry.get(metric_name, 0.0)\n",
    "        timeseriesdf.loc[date, column]=value\n",
    "            "
   ]
  },
  {
   "cell_type": "markdown",
   "id": "8d587b28-7ac7-44a4-ab55-3298b3e911c1",
   "metadata": {},
   "source": [
    "Finally, before we plot the data, we group our dataset by quarters, reducing the amount of data."
   ]
  },
  {
   "cell_type": "code",
   "execution_count": 8,
   "id": "509cac25-8836-4ce1-a807-1c4ca72b3f94",
   "metadata": {},
   "outputs": [
    {
     "name": "stderr",
     "output_type": "stream",
     "text": [
      "/tmp/ipykernel_1644/561487907.py:1: FutureWarning: 'Q' is deprecated and will be removed in a future version, please use 'QE' instead.\n",
      "  quarterly = timeseriesdf.groupby(pd.Grouper(freq='Q')).mean()\n"
     ]
    },
    {
     "data": {
      "image/png": "[encoded data removed]",
      "text/plain": [
       "<Figure size 640x480 with 1 Axes>"
      ]
     },
     "metadata": {},
     "output_type": "display_data"
    }
   ],
   "source": [
    "quarterly = timeseriesdf.groupby(pd.Grouper(freq='Q')).mean()\n",
    "quarterly = quarterly[::-1]  \n",
    "ax=quarterly.plot()\n",
    "ax.legend(loc='center left',bbox_to_anchor=(1.0, 0.5))\n",
    "ax.set_title('Average Measles cases in England by Quarter');\n"
   ]
  },
  {
   "cell_type": "markdown",
   "id": "d425e266-26a6-4a8e-99b7-30f2bbacb58a",
   "metadata": {},
   "source": [
    "We then define our API access function that will allow the user to refresh the data;"
   ]
  },
  {
   "cell_type": "code",
   "execution_count": 9,
   "id": "21c46d11-a731-46b8-b458-2c702cc7aa63",
   "metadata": {},
   "outputs": [
    {
     "data": {
      "application/vnd.jupyter.widget-view+json": {
       "model_id": "44c12b62ae4f4be7986fef6ced746012",
       "version_major": 2,
       "version_minor": 0
      },
      "text/plain": [
       "Button(button_style='info', description='Refresh data', icon='download', style=ButtonStyle(), tooltip='Click t…"
      ]
     },
     "metadata": {},
     "output_type": "display_data"
    }
   ],
   "source": [
    "def access_api(button):\n",
    "    apibutton.icon=\"check\"\n",
    "    apibutton.disabled=True\n",
    "\n",
    "  \n",
    "apibutton=wdg.Button( \n",
    "    description='Refresh data',\n",
    "    disabled=False,\n",
    "    button_style='info', \n",
    "    tooltip='Click to download current Public Health England data',\n",
    "    icon='download' \n",
    ")\n",
    "\n",
    "\n",
    "apibutton.on_click(access_api)\n",
    "\n",
    "\n",
    "display(apibutton)"
   ]
  },
  {
   "cell_type": "markdown",
   "id": "c01347fc-5a81-4720-8c9f-76ec9aaeadb0",
   "metadata": {},
   "source": [
    "And finally, we create an interactive button for the user to have the ability to either select data from 2023 or 2024. This way, the user can have a more granular view, and the user can appreciate the 'peak' of cases early 2024, and the downwards trend throughout 2024. Even though this particular graph does not separate between age groups, as we filtered to show all of the age groups and the country together, the data could allow a programmer to analyse the data per age groups, and per regions, appreciating the peaks in the Midlands, driven by a large outbreak in Birmingham in late 2023."
   ]
  },
  {
   "cell_type": "code",
   "execution_count": 10,
   "id": "df702a76-9c31-4939-a4b6-ff8f4f98f4a3",
   "metadata": {},
   "outputs": [
    {
     "data": {
      "application/vnd.jupyter.widget-view+json": {
       "model_id": "b8ec6f5d706e44619194e32c0528ffc3",
       "version_major": 2,
       "version_minor": 0
      },
      "text/plain": [
       "Dropdown(description='Year:', index=1, options=(2023, 2024), value=2024)"
      ]
     },
     "metadata": {},
     "output_type": "display_data"
    },
    {
     "data": {
      "application/vnd.jupyter.widget-view+json": {
       "model_id": "fa315f3a45fd47458c3a282a5808586d",
       "version_major": 2,
       "version_minor": 0
      },
      "text/plain": [
       "Output()"
      ]
     },
     "metadata": {},
     "output_type": "display_data"
    }
   ],
   "source": [
    "year = wdg.Dropdown(\n",
    "    options=sorted(timeseriesdf.index.year.unique()), \n",
    "    value=timeseriesdf.index.year[-1], \n",
    "    description='Year:',\n",
    "    disabled=False\n",
    ")\n",
    "\n",
    "def year_graph(graphyear):\n",
    "    yeardf = timeseriesdf[timeseriesdf.index.year == graphyear]\n",
    "    monthly = yeardf.groupby(pd.Grouper(freq='1M')).mean()\n",
    "    ax = monthly.plot(kind='bar', cmap='tab20')     \n",
    "    ax.set_xticklabels(monthly.index.strftime('%Y-%m-%d'), rotation=45)\n",
    "    ax.set_title(f\"Monthly Data for {graphyear}\")\n",
    "    ax.set_ylabel('Value')\n",
    "    ax.set_xlabel('Month')\n",
    "\n",
    "    plt.tight_layout()  \n",
    "    plt.show()\n",
    "\n",
    "\n",
    "output = wdg.interactive_output(year_graph, {'graphyear': year})\n",
    "\n",
    "\n",
    "display(year, output)"
   ]
  }
 ],
 "metadata": {
  "kernelspec": {
   "display_name": "Python 3 (ipykernel)",
   "language": "python",
   "name": "python3"
  },
  "language_info": {
   "codemirror_mode": {
    "name": "ipython",
    "version": 3
   },
   "file_extension": ".py",
   "mimetype": "text/x-python",
   "name": "python",
   "nbconvert_exporter": "python",
   "pygments_lexer": "ipython3",
   "version": "3.11.9"
  }
 },
 "nbformat": 4,
 "nbformat_minor": 5
}
